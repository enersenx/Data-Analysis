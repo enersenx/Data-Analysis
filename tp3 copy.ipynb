{
 "cells": [
  {
   "cell_type": "code",
   "execution_count": 167,
   "metadata": {},
   "outputs": [],
   "source": [
    "import matplotlib.pyplot as plt\n",
    "import pandas as pd\n",
    "import math\n",
    "import numpy as np"
   ]
  },
  {
   "cell_type": "code",
   "execution_count": 168,
   "metadata": {},
   "outputs": [],
   "source": [
    "def load(f):\n",
    "    dataset = pd.read_csv(f,delimiter=\",\",names=['c1','c2','c3','c4','c5'])\n",
    "    return dataset"
   ]
  },
  {
   "cell_type": "code",
   "execution_count": 169,
   "metadata": {},
   "outputs": [
    {
     "name": "stdout",
     "output_type": "stream",
     "text": [
      "      c1   c2   c3   c4              c5\n",
      "0    5.1  3.5  1.4  0.2     Iris-setosa\n",
      "1    4.9  3.0  1.4  0.2     Iris-setosa\n",
      "2    4.7  3.2  1.3  0.2     Iris-setosa\n",
      "3    4.6  3.1  1.5  0.2     Iris-setosa\n",
      "4    5.0  3.6  1.4  0.2     Iris-setosa\n",
      "..   ...  ...  ...  ...             ...\n",
      "145  6.7  3.0  5.2  2.3  Iris-virginica\n",
      "146  6.3  2.5  5.0  1.9  Iris-virginica\n",
      "147  6.5  3.0  5.2  2.0  Iris-virginica\n",
      "148  6.2  3.4  5.4  2.3  Iris-virginica\n",
      "149  5.9  3.0  5.1  1.8  Iris-virginica\n",
      "\n",
      "[150 rows x 5 columns]\n"
     ]
    }
   ],
   "source": [
    "dataset = load(\"Dataset-Exos.txt\")\n",
    "print(dataset)\n",
    "# info_dataset(dataset)"
   ]
  },
  {
   "cell_type": "code",
   "execution_count": 170,
   "metadata": {},
   "outputs": [],
   "source": [
    "def define_k(dataset):\n",
    "    n = len(dataset)\n",
    "    k = 1 +(10/3) * math.log10(n)\n",
    "    return int(math.ceil(k))-1"
   ]
  },
  {
   "cell_type": "code",
   "execution_count": 171,
   "metadata": {},
   "outputs": [],
   "source": [
    "def calculate_range_width(dataset, k):\n",
    "    min = dataset.quantile(0)\n",
    "    max = dataset.quantile(1)\n",
    "    \n",
    "    range = (max - min) /k\n",
    "    \n",
    "    return range\n",
    "    "
   ]
  },
  {
   "cell_type": "code",
   "execution_count": 172,
   "metadata": {},
   "outputs": [],
   "source": [
    "def categorize(dataset, range_width, k):\n",
    "    categories = []\n",
    "    dataset_length = len(dataset)\n",
    "    \n",
    "    for i in range(k):\n",
    "        # max_val_index = int(dataset_length * (i + 1) / k)\n",
    "        \n",
    "        min_val_index = int(dataset_length * i / k)\n",
    "        print('min ', min_val_index)\n",
    "        max_val_index = int(dataset_length * (i + 1) / k)\n",
    "        print('max ', max_val_index)\n",
    "        interval = dataset[min_val_index:max_val_index]\n",
    "        \n",
    "        categories.append(interval)\n",
    "\n",
    "    return categories\n"
   ]
  },
  {
   "cell_type": "code",
   "execution_count": 173,
   "metadata": {},
   "outputs": [],
   "source": [
    "def discretise(dataset, attr):\n",
    "    \n",
    "    dataset_sorted = dataset.sort_values(by=attr)\n",
    "    x = dataset_sorted[attr]\n",
    "    \n",
    "    # define the number of ranges K\n",
    "    k = define_k(x)\n",
    "    print(k)\n",
    "    # calculate the width of the range\n",
    "    range = calculate_range_width(x, k)\n",
    "    print(range)\n",
    "    # categorize\n",
    "    categories = categorize(x, range, k) \n",
    "    # print('categories')\n",
    "    # print(categories)\n",
    "    # print('--------------------------------------------')\n",
    "    \n",
    "    # calculate the average for each category and replace values with the average\n",
    "    for i, category in enumerate(categories):\n",
    "        avg = category.mean()\n",
    "        categories[i] = pd.Series([avg] * len(category), index=category.index)\n",
    "\n",
    "    # combine all categories back into a single Series\n",
    "    new_dataset = pd.concat(categories)\n",
    "    dataset[attr] = new_dataset\n",
    "\n",
    "    return dataset\n",
    "    \n",
    "    "
   ]
  },
  {
   "cell_type": "code",
   "execution_count": 174,
   "metadata": {},
   "outputs": [
    {
     "name": "stdout",
     "output_type": "stream",
     "text": [
      "8\n",
      "0.45000000000000007\n",
      "min  0\n",
      "max  18\n",
      "min  18\n",
      "max  37\n",
      "min  37\n",
      "max  56\n",
      "min  56\n",
      "max  75\n",
      "min  75\n",
      "max  93\n",
      "min  93\n",
      "max  112\n",
      "min  112\n",
      "max  131\n",
      "min  131\n",
      "max  150\n"
     ]
    }
   ],
   "source": [
    "discretised_dataset = discretise(dataset, 'c1')"
   ]
  },
  {
   "cell_type": "code",
   "execution_count": 175,
   "metadata": {},
   "outputs": [
    {
     "name": "stdout",
     "output_type": "stream",
     "text": [
      "           c1   c2   c3   c4              c5\n",
      "0    5.005263  3.5  1.4  0.2     Iris-setosa\n",
      "1    5.005263  3.0  1.4  0.2     Iris-setosa\n",
      "2    4.644444  3.2  1.3  0.2     Iris-setosa\n",
      "3    4.644444  3.1  1.5  0.2     Iris-setosa\n",
      "4    5.005263  3.6  1.4  0.2     Iris-setosa\n",
      "..        ...  ...  ...  ...             ...\n",
      "145  6.594737  3.0  5.2  2.3  Iris-virginica\n",
      "146  6.278947  2.5  5.0  1.9  Iris-virginica\n",
      "147  6.594737  3.0  5.2  2.0  Iris-virginica\n",
      "148  6.278947  3.4  5.4  2.3  Iris-virginica\n",
      "149  5.950000  3.0  5.1  1.8  Iris-virginica\n",
      "\n",
      "[150 rows x 5 columns]\n"
     ]
    }
   ],
   "source": [
    "print(discretised_dataset[c1])"
   ]
  },
  {
   "cell_type": "code",
   "execution_count": 176,
   "metadata": {},
   "outputs": [
    {
     "ename": "TypeError",
     "evalue": "DataFrame.sort_values() missing 1 required positional argument: 'by'",
     "output_type": "error",
     "traceback": [
      "\u001b[1;31m---------------------------------------------------------------------------\u001b[0m",
      "\u001b[1;31mTypeError\u001b[0m                                 Traceback (most recent call last)",
      "\u001b[1;32mc:\\Users\\Lenovo\\Documents\\M1S1\\DM\\TP\\TP1\\tp3 copy.ipynb Cell 10\u001b[0m line \u001b[0;36m1\n\u001b[1;32m----> <a href='vscode-notebook-cell:/c%3A/Users/Lenovo/Documents/M1S1/DM/TP/TP1/tp3%20copy.ipynb#X16sZmlsZQ%3D%3D?line=0'>1</a>\u001b[0m \u001b[39mprint\u001b[39m(discretised_dataset\u001b[39m.\u001b[39;49msort_values())\n",
      "\u001b[1;31mTypeError\u001b[0m: DataFrame.sort_values() missing 1 required positional argument: 'by'"
     ]
    }
   ],
   "source": [
    "print(discretised_dataset.sort_values())"
   ]
  },
  {
   "cell_type": "code",
   "execution_count": null,
   "metadata": {},
   "outputs": [],
   "source": [
    "def min_max_normalize(dataset, attr, new_min=0, new_max=1):\n",
    "    # Trouver les valeurs minimales et maximales dans le dataset\n",
    "    x = dataset[attr]\n",
    "    min_val = x.min()\n",
    "    max_val = x.max()\n",
    "    \n",
    "    # Appliquer la normalisation Min-Max\n",
    "    normalized_data = (x - min_val) / (max_val - min_val) * (new_max - new_min) + new_min\n",
    "    \n",
    "    return normalized_data"
   ]
  },
  {
   "cell_type": "code",
   "execution_count": null,
   "metadata": {},
   "outputs": [],
   "source": [
    "dataset_normalized = min_max_normalize(dataset, 'c1')"
   ]
  },
  {
   "cell_type": "code",
   "execution_count": null,
   "metadata": {},
   "outputs": [
    {
     "name": "stdout",
     "output_type": "stream",
     "text": [
      "0      0.222222\n",
      "1      0.166667\n",
      "2      0.111111\n",
      "3      0.083333\n",
      "4      0.194444\n",
      "         ...   \n",
      "145    0.666667\n",
      "146    0.555556\n",
      "147    0.611111\n",
      "148    0.527778\n",
      "149    0.444444\n",
      "Name: c1, Length: 150, dtype: float64\n"
     ]
    }
   ],
   "source": [
    "print(dataset_normalized)"
   ]
  },
  {
   "cell_type": "code",
   "execution_count": null,
   "metadata": {},
   "outputs": [
    {
     "name": "stdout",
     "output_type": "stream",
     "text": [
      "13     0.000000\n",
      "42     0.027778\n",
      "38     0.027778\n",
      "8      0.027778\n",
      "41     0.055556\n",
      "         ...   \n",
      "122    0.944444\n",
      "118    0.944444\n",
      "117    0.944444\n",
      "135    0.944444\n",
      "131    1.000000\n",
      "Name: c1, Length: 150, dtype: float64\n"
     ]
    }
   ],
   "source": [
    "print(dataset_normalized.sort_values())"
   ]
  }
 ],
 "metadata": {
  "kernelspec": {
   "display_name": "Python 3",
   "language": "python",
   "name": "python3"
  },
  "language_info": {
   "codemirror_mode": {
    "name": "ipython",
    "version": 3
   },
   "file_extension": ".py",
   "mimetype": "text/x-python",
   "name": "python",
   "nbconvert_exporter": "python",
   "pygments_lexer": "ipython3",
   "version": "3.10.0"
  }
 },
 "nbformat": 4,
 "nbformat_minor": 2
}
