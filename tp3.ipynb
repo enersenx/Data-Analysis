{
 "cells": [
  {
   "cell_type": "code",
   "execution_count": 58,
   "metadata": {},
   "outputs": [],
   "source": [
    "import matplotlib.pyplot as plt\n",
    "import pandas as pd\n",
    "import math\n",
    "import numpy as np"
   ]
  },
  {
   "cell_type": "code",
   "execution_count": 59,
   "metadata": {},
   "outputs": [],
   "source": [
    "def load(f):\n",
    "    dataset = pd.read_csv(f,delimiter=\",\",names=['c1','c2','c3','c4','c5'])\n",
    "    return dataset"
   ]
  },
  {
   "cell_type": "code",
   "execution_count": 71,
   "metadata": {},
   "outputs": [
    {
     "name": "stdout",
     "output_type": "stream",
     "text": [
      "      c1   c2   c3   c4              c5\n",
      "0    5.1  3.5  1.4  0.2     Iris-setosa\n",
      "1    4.9  3.0  1.4  0.2     Iris-setosa\n",
      "2    4.7  3.2  1.3  0.2     Iris-setosa\n",
      "3    4.6  3.1  1.5  0.2     Iris-setosa\n",
      "4    5.0  3.6  1.4  0.2     Iris-setosa\n",
      "..   ...  ...  ...  ...             ...\n",
      "145  6.7  3.0  5.2  2.3  Iris-virginica\n",
      "146  6.3  2.5  5.0  1.9  Iris-virginica\n",
      "147  6.5  3.0  5.2  2.0  Iris-virginica\n",
      "148  6.2  3.4  5.4  2.3  Iris-virginica\n",
      "149  5.9  3.0  5.1  1.8  Iris-virginica\n",
      "\n",
      "[150 rows x 5 columns]\n"
     ]
    },
    {
     "ename": "NameError",
     "evalue": "name 'info_dataset' is not defined",
     "output_type": "error",
     "traceback": [
      "\u001b[1;31m---------------------------------------------------------------------------\u001b[0m",
      "\u001b[1;31mNameError\u001b[0m                                 Traceback (most recent call last)",
      "\u001b[1;32mc:\\Users\\Lenovo\\Documents\\M1S1\\DM\\TP\\TP1\\tp3.ipynb Cell 3\u001b[0m line \u001b[0;36m3\n\u001b[0;32m      <a href='vscode-notebook-cell:/c%3A/Users/Lenovo/Documents/M1S1/DM/TP/TP1/tp3.ipynb#W2sZmlsZQ%3D%3D?line=0'>1</a>\u001b[0m dataset \u001b[39m=\u001b[39m load(\u001b[39m\"\u001b[39m\u001b[39mDataset-Exos.txt\u001b[39m\u001b[39m\"\u001b[39m)\n\u001b[0;32m      <a href='vscode-notebook-cell:/c%3A/Users/Lenovo/Documents/M1S1/DM/TP/TP1/tp3.ipynb#W2sZmlsZQ%3D%3D?line=1'>2</a>\u001b[0m \u001b[39mprint\u001b[39m(dataset)\n\u001b[1;32m----> <a href='vscode-notebook-cell:/c%3A/Users/Lenovo/Documents/M1S1/DM/TP/TP1/tp3.ipynb#W2sZmlsZQ%3D%3D?line=2'>3</a>\u001b[0m info_dataset(dataset)\n",
      "\u001b[1;31mNameError\u001b[0m: name 'info_dataset' is not defined"
     ]
    }
   ],
   "source": [
    "dataset = load(\"Dataset-Exos.txt\")\n",
    "print(dataset)\n",
    "# info_dataset(dataset)"
   ]
  },
  {
   "cell_type": "code",
   "execution_count": 61,
   "metadata": {},
   "outputs": [],
   "source": [
    "def define_k(dataset):\n",
    "    n = len(dataset)\n",
    "    k = 1 +(10/3) * math.log10(n)\n",
    "    return int(math.ceil(k))-1"
   ]
  },
  {
   "cell_type": "code",
   "execution_count": 62,
   "metadata": {},
   "outputs": [],
   "source": [
    "def calculate_range_width(dataset, k):\n",
    "    min = dataset.quantile(0)\n",
    "    max = dataset.quantile(1)\n",
    "    \n",
    "    range = (max - min) /k\n",
    "    \n",
    "    return range\n",
    "    "
   ]
  },
  {
   "cell_type": "code",
   "execution_count": 63,
   "metadata": {},
   "outputs": [],
   "source": [
    "def categorize(dataset, range_width, k):\n",
    "    categories = []\n",
    "    min_val = dataset.min()\n",
    "    \n",
    "    for i in range(k):\n",
    "        # max_val = len(dataset) * i / k\n",
    "        max_val = min_val + range_width\n",
    "        if i == k - 1:  # for the last category, include the maximum value in the range\n",
    "            interval = dataset[(dataset >= min_val) & (dataset <= max_val)]\n",
    "        else:\n",
    "            interval = dataset[(dataset >= min_val) & (dataset < max_val)]\n",
    "        \n",
    "        categories.append(interval)\n",
    "        min_val = max_val\n",
    "\n",
    "    return categories"
   ]
  },
  {
   "cell_type": "code",
   "execution_count": 64,
   "metadata": {},
   "outputs": [],
   "source": [
    "def discretise(dataset, attr):\n",
    "    \n",
    "    dataset_sorted = dataset.sort_values(by=attr)\n",
    "    x = dataset_sorted[attr]\n",
    "    \n",
    "    # define the number of ranges K\n",
    "    k = define_k(x)\n",
    "    print(k)\n",
    "    # calculate the width of the range\n",
    "    range = calculate_range_width(x, k)\n",
    "    print(range)\n",
    "    # categorize\n",
    "    categories = categorize(x, range, k)\n",
    "    \n",
    "    # calculate the average for each category and replace values with the average\n",
    "    for i, category in enumerate(categories):\n",
    "        avg = category.mean()\n",
    "        categories[i] = pd.Series([avg] * len(category), index=category.index)\n",
    "\n",
    "    # combine all categories back into a single Series\n",
    "    new_dataset = pd.concat(categories)\n",
    "\n",
    "    return new_dataset\n",
    "    \n",
    "    "
   ]
  },
  {
   "cell_type": "code",
   "execution_count": 65,
   "metadata": {},
   "outputs": [
    {
     "name": "stdout",
     "output_type": "stream",
     "text": [
      "8\n",
      "0.45000000000000007\n"
     ]
    }
   ],
   "source": [
    "discretised_dataset = discretise(dataset, 'c1')"
   ]
  },
  {
   "cell_type": "code",
   "execution_count": 66,
   "metadata": {},
   "outputs": [
    {
     "name": "stdout",
     "output_type": "stream",
     "text": [
      "13     4.527273\n",
      "42     4.527273\n",
      "38     4.527273\n",
      "8      4.527273\n",
      "41     4.527273\n",
      "         ...   \n",
      "122    7.716667\n",
      "118    7.716667\n",
      "117    7.716667\n",
      "135    7.716667\n",
      "131    7.716667\n",
      "Length: 150, dtype: float64\n"
     ]
    }
   ],
   "source": [
    "print(discretised_dataset)"
   ]
  },
  {
   "cell_type": "code",
   "execution_count": 67,
   "metadata": {},
   "outputs": [],
   "source": [
    "def min_max_normalize(dataset, attr, new_min=0, new_max=1):\n",
    "    # Trouver les valeurs minimales et maximales dans le dataset\n",
    "    x = dataset[attr]\n",
    "    min_val = x.min()\n",
    "    max_val = x.max()\n",
    "    \n",
    "    # Appliquer la normalisation Min-Max\n",
    "    normalized_data = (x - min_val) / (max_val - min_val) * (new_max - new_min) + new_min\n",
    "    \n",
    "    return normalized_data"
   ]
  },
  {
   "cell_type": "code",
   "execution_count": 68,
   "metadata": {},
   "outputs": [],
   "source": [
    "dataset_normalized = min_max_normalize(dataset, 'c1')"
   ]
  },
  {
   "cell_type": "code",
   "execution_count": 69,
   "metadata": {},
   "outputs": [
    {
     "name": "stdout",
     "output_type": "stream",
     "text": [
      "0      0.222222\n",
      "1      0.166667\n",
      "2      0.111111\n",
      "3      0.083333\n",
      "4      0.194444\n",
      "         ...   \n",
      "145    0.666667\n",
      "146    0.555556\n",
      "147    0.611111\n",
      "148    0.527778\n",
      "149    0.444444\n",
      "Name: c1, Length: 150, dtype: float64\n"
     ]
    }
   ],
   "source": [
    "print(dataset_normalized)"
   ]
  },
  {
   "cell_type": "code",
   "execution_count": 70,
   "metadata": {},
   "outputs": [
    {
     "name": "stdout",
     "output_type": "stream",
     "text": [
      "13     0.000000\n",
      "42     0.027778\n",
      "38     0.027778\n",
      "8      0.027778\n",
      "41     0.055556\n",
      "         ...   \n",
      "122    0.944444\n",
      "118    0.944444\n",
      "117    0.944444\n",
      "135    0.944444\n",
      "131    1.000000\n",
      "Name: c1, Length: 150, dtype: float64\n"
     ]
    }
   ],
   "source": [
    "print(dataset_normalized.sort_values())"
   ]
  }
 ],
 "metadata": {
  "kernelspec": {
   "display_name": "Python 3",
   "language": "python",
   "name": "python3"
  },
  "language_info": {
   "codemirror_mode": {
    "name": "ipython",
    "version": 3
   },
   "file_extension": ".py",
   "mimetype": "text/x-python",
   "name": "python",
   "nbconvert_exporter": "python",
   "pygments_lexer": "ipython3",
   "version": "3.10.0"
  }
 },
 "nbformat": 4,
 "nbformat_minor": 2
}
