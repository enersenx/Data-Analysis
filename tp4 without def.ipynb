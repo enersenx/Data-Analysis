{
 "cells": [
  {
   "cell_type": "code",
   "execution_count": 1592,
   "metadata": {},
   "outputs": [],
   "source": [
    "import matplotlib.pyplot as plt\n",
    "import pandas as pd\n",
    "import math\n",
    "import numpy as np\n",
    "from itertools import combinations"
   ]
  },
  {
   "cell_type": "code",
   "execution_count": 1593,
   "metadata": {},
   "outputs": [],
   "source": [
    "def load(f):\n",
    "    dataset = pd.read_csv(f)\n",
    "    return dataset"
   ]
  },
  {
   "cell_type": "code",
   "execution_count": 1594,
   "metadata": {},
   "outputs": [
    {
     "name": "stdout",
     "output_type": "stream",
     "text": [
      "<class 'pandas.core.frame.DataFrame'>\n",
      "RangeIndex: 115 entries, 0 to 114\n",
      "Data columns (total 4 columns):\n",
      " #   Column              Non-Null Count  Dtype \n",
      "---  ------              --------------  ----- \n",
      " 0   Watcher             115 non-null    object\n",
      " 1   videoCategoryId     115 non-null    int64 \n",
      " 2   videoCategoryLabel  115 non-null    object\n",
      " 3   definition          112 non-null    object\n",
      "dtypes: int64(1), object(3)\n",
      "memory usage: 3.7+ KB\n",
      "None\n"
     ]
    }
   ],
   "source": [
    "dataset = load(\"Dataset-Exos2.csv\")\n",
    "print(dataset.info())"
   ]
  },
  {
   "cell_type": "markdown",
   "metadata": {},
   "source": [
    "question 1 : \n",
    "- une transaction correspond au visionnage de vidéos\n",
    "- un item correspond à une vidéo visionnée avec sa définition"
   ]
  },
  {
   "cell_type": "code",
   "execution_count": 1595,
   "metadata": {},
   "outputs": [],
   "source": [
    "def transaction_count(dataset, attr = 'Watcher'):\n",
    "    return dataset[attr].nunique()"
   ]
  },
  {
   "cell_type": "code",
   "execution_count": 1596,
   "metadata": {},
   "outputs": [
    {
     "name": "stdout",
     "output_type": "stream",
     "text": [
      "39\n"
     ]
    }
   ],
   "source": [
    "count = transaction_count(dataset)\n",
    "print(count)"
   ]
  },
  {
   "cell_type": "code",
   "execution_count": 1597,
   "metadata": {},
   "outputs": [],
   "source": [
    "def item_count(dataset, attr =  'videoCategoryId'):\n",
    "    return dataset[attr].nunique()"
   ]
  },
  {
   "cell_type": "code",
   "execution_count": 1598,
   "metadata": {},
   "outputs": [
    {
     "name": "stdout",
     "output_type": "stream",
     "text": [
      "39\n"
     ]
    }
   ],
   "source": [
    "count = transaction_count(dataset)\n",
    "print(count)"
   ]
  },
  {
   "cell_type": "code",
   "execution_count": 1599,
   "metadata": {},
   "outputs": [],
   "source": [
    "def aff_nombres_manquants(dataset,attr):\n",
    "    dataset_sorted=dataset.sort_values(by=attr)\n",
    "    column=dataset_sorted[attr]\n",
    "    manquant=0\n",
    "    \n",
    "    for i in column :\n",
    "        if (pd.isna(i)):\n",
    "            manquant+=1\n",
    "    print(\"le nombre de valeurs manquantes est de :\",manquant,\"\\nle pourcentage de valeurs manquantes est de:\",manquant*100/len(dataset_sorted),'%')"
   ]
  },
  {
   "cell_type": "code",
   "execution_count": 1600,
   "metadata": {},
   "outputs": [
    {
     "name": "stdout",
     "output_type": "stream",
     "text": [
      "Watcher\n",
      "le nombre de valeurs manquantes est de : 0 \n",
      "le pourcentage de valeurs manquantes est de: 0.0 %\n",
      "\n",
      "videoCategoryId\n",
      "le nombre de valeurs manquantes est de : 0 \n",
      "le pourcentage de valeurs manquantes est de: 0.0 %\n",
      "\n",
      "videoCategoryLabel\n",
      "le nombre de valeurs manquantes est de : 0 \n",
      "le pourcentage de valeurs manquantes est de: 0.0 %\n",
      "\n",
      "definition\n",
      "le nombre de valeurs manquantes est de : 3 \n",
      "le pourcentage de valeurs manquantes est de: 2.608695652173913 %\n"
     ]
    }
   ],
   "source": [
    "print('Watcher')\n",
    "aff_nombres_manquants(dataset, 'Watcher')\n",
    "print('\\nvideoCategoryId')\n",
    "aff_nombres_manquants(dataset, 'videoCategoryId')\n",
    "print('\\nvideoCategoryLabel')\n",
    "aff_nombres_manquants(dataset, 'videoCategoryLabel')\n",
    "print('\\ndefinition')\n",
    "aff_nombres_manquants(dataset, 'definition')"
   ]
  },
  {
   "cell_type": "code",
   "execution_count": 1601,
   "metadata": {},
   "outputs": [
    {
     "name": "stdout",
     "output_type": "stream",
     "text": [
      "Jane\n",
      "hd\n",
      "Babs\n",
      "hd\n",
      "Cyrus\n",
      "sd\n"
     ]
    }
   ],
   "source": [
    "# take all the items of the watcher \n",
    "# check the def and take the definition that's chosen the most\n",
    "def replace_missing_definitions(dataset):\n",
    "    # dictionary of the most common definition for each watcher\n",
    "    watcher_definitions = {}\n",
    "\n",
    "    # iterate through the unique watchers in the dataframe\n",
    "    unique_watchers = dataset['Watcher'].unique()\n",
    "    for watcher in unique_watchers:\n",
    "        # filter the dataframe for rows belonging to the current watcher\n",
    "        watcher_dataset = dataset[dataset['Watcher'] == watcher]\n",
    "\n",
    "        # count the occurrences of each definition for the watcher\n",
    "        definition_counts = watcher_dataset['definition'].value_counts()\n",
    "\n",
    "        # get the most common definition for this watcher\n",
    "        most_common_definition = definition_counts.idxmax()\n",
    "\n",
    "        # store the most common definition in the dictionary\n",
    "        watcher_definitions[watcher] = most_common_definition\n",
    "\n",
    "    # Replace missing 'definition' values in the original dataframe\n",
    "    for index, row in dataset.iterrows():\n",
    "        if pd.isna(row['definition']):\n",
    "            dataset.at[index, 'definition'] = watcher_definitions[row['Watcher']]\n",
    "\n",
    "    return dataset\n",
    "\n",
    "dataset = replace_missing_definitions(dataset)\n",
    "print(dataset.at[12, 'Watcher'])\n",
    "print(dataset.at[12, 'definition'])\n",
    "print(dataset.at[8, 'Watcher'])\n",
    "print(dataset.at[8, 'definition'])\n",
    "print(dataset.at[36, 'Watcher'])\n",
    "print(dataset.at[36, 'definition'])\n",
    "\n"
   ]
  },
  {
   "cell_type": "code",
   "execution_count": 1602,
   "metadata": {},
   "outputs": [
    {
     "data": {
      "image/png": "[encoded data removed]",
      "text/plain": [
       "<Figure size 640x480 with 1 Axes>"
      ]
     },
     "metadata": {},
     "output_type": "display_data"
    }
   ],
   "source": [
    "def box(dataset, attr):\n",
    "    x = dataset[attr]\n",
    "    plt.boxplot(x)\n",
    "    plt.title('BoxPlot with outliers')\n",
    "    plt.ylabel(f'values of {attr}')\n",
    "box(dataset, 'videoCategoryId')"
   ]
  },
  {
   "cell_type": "code",
   "execution_count": 1603,
   "metadata": {},
   "outputs": [
    {
     "name": "stdout",
     "output_type": "stream",
     "text": [
      "<class 'pandas.core.frame.DataFrame'>\n",
      "Int64Index: 112 entries, 0 to 114\n",
      "Data columns (total 4 columns):\n",
      " #   Column              Non-Null Count  Dtype \n",
      "---  ------              --------------  ----- \n",
      " 0   Watcher             112 non-null    object\n",
      " 1   videoCategoryId     112 non-null    int64 \n",
      " 2   videoCategoryLabel  112 non-null    object\n",
      " 3   definition          112 non-null    object\n",
      "dtypes: int64(1), object(3)\n",
      "memory usage: 4.4+ KB\n",
      "None\n"
     ]
    }
   ],
   "source": [
    "def remove_outliers_iqr(data, column_name):\n",
    "    # Calculate the IQR for the specified column\n",
    "    Q1 = data[column_name].quantile(0.25)\n",
    "    Q3 = data[column_name].quantile(0.75)\n",
    "    IQR = Q3 - Q1\n",
    "\n",
    "    # Define the lower and upper bounds for outliers\n",
    "    lower_bound = Q1 - 1.5 * IQR\n",
    "    upper_bound = Q3 + 1.5 * IQR\n",
    "\n",
    "    # Remove outliers from the specified column\n",
    "    data_no_outliers = data[(data[column_name] >= lower_bound) & (data[column_name] <= upper_bound)]\n",
    "\n",
    "    return data_no_outliers\n",
    "dataset = remove_outliers_iqr(dataset, 'videoCategoryId')\n",
    "print(dataset.info())"
   ]
  },
  {
   "cell_type": "code",
   "execution_count": 1604,
   "metadata": {},
   "outputs": [
    {
     "data": {
      "image/png": "[encoded data removed]",
      "text/plain": [
       "<Figure size 640x480 with 1 Axes>"
      ]
     },
     "metadata": {},
     "output_type": "display_data"
    }
   ],
   "source": [
    "def scatterplot(dataset, attr1, attr2):\n",
    "    x = dataset[attr1]\n",
    "    y = dataset[attr2]\n",
    "    plt.scatter(x,y)\n",
    "    plt.title('Scatter plot')\n",
    "    plt.xlabel('values of x')\n",
    "    plt.ylabel('values of y')\n",
    "    plt.show()\n",
    "\n",
    "scatterplot(dataset, 'videoCategoryId', 'Watcher')"
   ]
  },
  {
   "cell_type": "code",
   "execution_count": 1605,
   "metadata": {},
   "outputs": [
    {
     "name": "stdout",
     "output_type": "stream",
     "text": [
      "Int64Index([19, 17, 20, 23, 26], dtype='int64')\n"
     ]
    }
   ],
   "source": [
    "\n",
    "def remove_rare_video_categories(dataset,attr, threshold=1):\n",
    "    # count the occurrences of each videoCategoryId\n",
    "    category_counts = dataset[attr].value_counts()\n",
    "\n",
    "    # identify categories that occur less frequently than the threshold\n",
    "    rare_categories = category_counts[category_counts <= threshold].index\n",
    "    print(rare_categories)\n",
    "\n",
    "    # filter the dataset to remove rows with rare videoCategoryId values\n",
    "    filtered_dataset = dataset[~dataset[attr].isin(rare_categories)]\n",
    "\n",
    "    return filtered_dataset\n",
    "\n",
    "dataset = remove_rare_video_categories(dataset,'videoCategoryId', threshold=1)\n",
    "\n",
    "\n"
   ]
  },
  {
   "cell_type": "code",
   "execution_count": 1606,
   "metadata": {},
   "outputs": [
    {
     "name": "stdout",
     "output_type": "stream",
     "text": [
      "<class 'pandas.core.frame.DataFrame'>\n",
      "Int64Index: 107 entries, 0 to 114\n",
      "Data columns (total 4 columns):\n",
      " #   Column              Non-Null Count  Dtype \n",
      "---  ------              --------------  ----- \n",
      " 0   Watcher             107 non-null    object\n",
      " 1   videoCategoryId     107 non-null    int64 \n",
      " 2   videoCategoryLabel  107 non-null    object\n",
      " 3   definition          107 non-null    object\n",
      "dtypes: int64(1), object(3)\n",
      "memory usage: 4.2+ KB\n",
      "None\n"
     ]
    }
   ],
   "source": [
    "print(dataset.info())"
   ]
  },
  {
   "cell_type": "code",
   "execution_count": 1614,
   "metadata": {},
   "outputs": [
    {
     "name": "stdout",
     "output_type": "stream",
     "text": [
      "     Watcher                                      WatchedVideos\n",
      "0       Adam                                   [People & Blogs]\n",
      "1       Alex                   [People & Blogs, People & Blogs]\n",
      "2        Amy                                   [People & Blogs]\n",
      "3       Babs                   [People & Blogs, People & Blogs]\n",
      "4        Ben                                   [People & Blogs]\n",
      "5      Billy  [Nonprofits & Activism, People & Blogs, Entert...\n",
      "6        Bob  [People & Blogs, Science & Technology, Education]\n",
      "7       Brad  [Science & Technology, People & Blogs, People ...\n",
      "8   Chandler                             [Science & Technology]\n",
      "9      Clark             [People & Blogs, Science & Technology]\n",
      "10     Cyrus                             [Science & Technology]\n",
      "11       Flo                             [Science & Technology]\n",
      "12    Howard                                   [People & Blogs]\n",
      "13      Ibra  [People & Blogs, People & Blogs, People & Blog...\n",
      "14      Jack  [Science & Technology, People & Blogs, Science...\n",
      "15      Jane  [Entertainment, Education, People & Blogs, Ent...\n",
      "16      Jeff  [News & Politics, Science & Technology, Entert...\n",
      "17      Jess  [Entertainment, News & Politics, Science & Tec...\n",
      "18      Joey   [News & Politics, People & Blogs, Entertainment]\n",
      "19       Kat  [People & Blogs, Science & Technology, Science...\n",
      "20     Leila  [People & Blogs, Science & Technology, Nonprof...\n",
      "21   Leonard                                   [People & Blogs]\n",
      "22      Liza                        [People & Blogs, Education]\n",
      "23      Loan                   [People & Blogs, People & Blogs]\n",
      "24     Marie                    [Entertainment, People & Blogs]\n",
      "25      Mark  [Entertainment, People & Blogs, Nonprofits & A...\n",
      "26    Monica                             [Science & Technology]\n",
      "27     Naomy  [People & Blogs, People & Blogs, Science & Tec...\n",
      "28     Natoo  [People & Blogs, Science & Technology, Educati...\n",
      "29     Penny                                   [People & Blogs]\n",
      "30    Phoebe             [Science & Technology, People & Blogs]\n",
      "31    Rachel  [People & Blogs, Science & Technology, Science...\n",
      "32   Radjesh             [Science & Technology, People & Blogs]\n",
      "33      Ross                       [News & Politics, Education]\n",
      "34       Seb       [Science & Technology, Science & Technology]\n",
      "35   Sheldon             [Science & Technology, People & Blogs]\n",
      "36    Sloane  [Nonprofits & Activism, People & Blogs, Scienc...\n",
      "37   Squeezy  [Nonprofits & Activism, Science & Technology, ...\n",
      "38        Ze             [Science & Technology, People & Blogs]\n"
     ]
    }
   ],
   "source": [
    "# Group by 'Watcher' and aggregate the 'videoCategoryLabel' values into lists\n",
    "watched_videos_df = dataset.groupby('Watcher')['videoCategoryLabel'].apply(list).reset_index()\n",
    "\n",
    "# Rename columns for clarity\n",
    "watched_videos_df.columns = ['Watcher', 'WatchedVideos']\n",
    "\n",
    "# Display the modified DataFrame\n",
    "print(watched_videos_df)"
   ]
  },
  {
   "cell_type": "code",
   "execution_count": 1615,
   "metadata": {},
   "outputs": [
    {
     "name": "stdout",
     "output_type": "stream",
     "text": [
      "Frequent 1-itemsets:\n",
      "('Education',): Support = 8.00\n",
      "('Entertainment',): Support = 7.00\n",
      "('Science & Technology',): Support = 24.00\n",
      "('News & Politics',): Support = 5.00\n",
      "('People & Blogs',): Support = 31.00\n",
      "('Nonprofits & Activism',): Support = 9.00\n",
      "\n",
      "\n",
      "\n",
      "Frequent 2-itemsets:\n",
      "('People & Blogs', 'Science & Technology'): Support = 17.00\n",
      "('Entertainment', 'Science & Technology'): Support = 4.00\n",
      "('Education', 'Science & Technology'): Support = 5.00\n",
      "('Nonprofits & Activism', 'Nonprofits & Activism'): Support = 9.00\n",
      "('People & Blogs', 'People & Blogs'): Support = 31.00\n",
      "('Science & Technology', 'Science & Technology'): Support = 24.00\n",
      "('Entertainment', 'Nonprofits & Activism'): Support = 3.00\n",
      "('Entertainment', 'People & Blogs'): Support = 5.00\n",
      "('News & Politics', 'News & Politics'): Support = 5.00\n",
      "('Education', 'People & Blogs'): Support = 6.00\n",
      "('Nonprofits & Activism', 'Science & Technology'): Support = 9.00\n",
      "('News & Politics', 'Nonprofits & Activism'): Support = 2.00\n",
      "('Nonprofits & Activism', 'People & Blogs'): Support = 8.00\n",
      "('Entertainment', 'Entertainment'): Support = 7.00\n",
      "('Education', 'Entertainment'): Support = 3.00\n",
      "('News & Politics', 'Science & Technology'): Support = 3.00\n",
      "('Entertainment', 'News & Politics'): Support = 3.00\n",
      "('Education', 'News & Politics'): Support = 3.00\n",
      "('News & Politics', 'People & Blogs'): Support = 2.00\n",
      "('Education', 'Nonprofits & Activism'): Support = 3.00\n",
      "\n",
      "\n",
      "\n",
      "Frequent 3-itemsets:\n",
      "('People & Blogs', 'People & Blogs', 'Science & Technology'): Support = 17.00\n",
      "('Education', 'Entertainment', 'People & Blogs'): Support = 2.00\n",
      "('Education', 'Science & Technology', 'Science & Technology'): Support = 5.00\n",
      "('Nonprofits & Activism', 'People & Blogs', 'Science & Technology'): Support = 8.00\n",
      "('Entertainment', 'Entertainment', 'Nonprofits & Activism'): Support = 3.00\n",
      "('News & Politics', 'People & Blogs', 'Science & Technology'): Support = 1.00\n",
      "('People & Blogs', 'People & Blogs', 'People & Blogs'): Support = 31.00\n",
      "('People & Blogs', 'Science & Technology', 'Science & Technology'): Support = 17.00\n",
      "('Entertainment', 'News & Politics', 'Science & Technology'): Support = 2.00\n",
      "('News & Politics', 'Science & Technology', 'Science & Technology'): Support = 3.00\n",
      "('Nonprofits & Activism', 'People & Blogs', 'People & Blogs'): Support = 8.00\n",
      "('Education', 'Nonprofits & Activism', 'Science & Technology'): Support = 3.00\n",
      "('Nonprofits & Activism', 'Science & Technology', 'Science & Technology'): Support = 9.00\n",
      "('News & Politics', 'Nonprofits & Activism', 'Science & Technology'): Support = 2.00\n",
      "('Education', 'News & Politics', 'News & Politics'): Support = 3.00\n",
      "('Education', 'Entertainment', 'Entertainment'): Support = 3.00\n",
      "('Nonprofits & Activism', 'Nonprofits & Activism', 'Science & Technology'): Support = 9.00\n",
      "('Entertainment', 'Entertainment', 'Science & Technology'): Support = 4.00\n",
      "('Education', 'News & Politics', 'Nonprofits & Activism'): Support = 1.00\n",
      "('Entertainment', 'News & Politics', 'People & Blogs'): Support = 1.00\n",
      "('Entertainment', 'People & Blogs', 'Science & Technology'): Support = 2.00\n",
      "('Education', 'Nonprofits & Activism', 'People & Blogs'): Support = 3.00\n",
      "('Education', 'Entertainment', 'News & Politics'): Support = 1.00\n",
      "('News & Politics', 'Nonprofits & Activism', 'People & Blogs'): Support = 1.00\n",
      "('Nonprofits & Activism', 'Nonprofits & Activism', 'People & Blogs'): Support = 8.00\n",
      "('Entertainment', 'Entertainment', 'People & Blogs'): Support = 5.00\n",
      "('Entertainment', 'Nonprofits & Activism', 'Nonprofits & Activism'): Support = 3.00\n",
      "('Education', 'Entertainment', 'Nonprofits & Activism'): Support = 1.00\n",
      "('Entertainment', 'People & Blogs', 'People & Blogs'): Support = 5.00\n",
      "('Entertainment', 'Science & Technology', 'Science & Technology'): Support = 4.00\n",
      "('Education', 'News & Politics', 'Science & Technology'): Support = 2.00\n",
      "('News & Politics', 'News & Politics', 'Science & Technology'): Support = 3.00\n",
      "('Entertainment', 'Nonprofits & Activism', 'Science & Technology'): Support = 3.00\n",
      "('Education', 'People & Blogs', 'Science & Technology'): Support = 4.00\n",
      "('Entertainment', 'News & Politics', 'News & Politics'): Support = 3.00\n",
      "('Education', 'News & Politics', 'People & Blogs'): Support = 1.00\n",
      "('Education', 'Entertainment', 'Science & Technology'): Support = 2.00\n",
      "('Entertainment', 'Nonprofits & Activism', 'People & Blogs'): Support = 2.00\n",
      "('Entertainment', 'News & Politics', 'Nonprofits & Activism'): Support = 1.00\n",
      "('Education', 'People & Blogs', 'People & Blogs'): Support = 6.00\n",
      "('Education', 'Nonprofits & Activism', 'Nonprofits & Activism'): Support = 3.00\n",
      "('Entertainment', 'Entertainment', 'News & Politics'): Support = 3.00\n",
      "\n",
      "\n",
      "\n"
     ]
    }
   ],
   "source": [
    "from itertools import combinations\n",
    "\n",
    "# Function to generate k-itemsets candidates (Ck)\n",
    "def generate_candidates(transactions, k):\n",
    "    candidates = []\n",
    "    for transaction in transactions:\n",
    "        for candidate in combinations(transaction, k):\n",
    "            candidates.append(tuple(sorted(candidate)))\n",
    "    return set(candidates)\n",
    "\n",
    "# Function to calculate the support of k-itemsets (Ck)\n",
    "def calculate_support(transactions, candidates, min_support):\n",
    "    itemset_counts = {}\n",
    "    num_transactions = len(transactions)\n",
    "    \n",
    "    for candidate in candidates:\n",
    "        for transaction in transactions:\n",
    "            if set(candidate).issubset(set(transaction)):\n",
    "                itemset_counts[candidate] = itemset_counts.get(candidate, 0) + 1\n",
    "                \n",
    "    \n",
    "    return itemset_counts\n",
    "\n",
    "# Function to generate frequent k-itemsets (Lk)\n",
    "def generate_frequent_itemsets(transactions, k, min_support):\n",
    "    candidates = generate_candidates(transactions, k)\n",
    "    \n",
    "    itemset_counts = calculate_support(transactions, candidates, min_support)\n",
    "    # frequent_itemsets = {itemset: count / num_transactions for itemset, count in itemset_counts.items() if count / num_transactions >= min_support}\n",
    "    frequent_itemsets = {itemset: count for itemset, count in itemset_counts.items() if count  >= min_support}\n",
    "    \n",
    "    return frequent_itemsets\n",
    "\n",
    "# Sample data (use your transformed dataset)\n",
    "transactions = watched_videos_df['WatchedVideos']\n",
    "min_support = 0.3  # Set your minimum support here\n",
    "\n",
    "# Apply Apriori algorithm to find frequent itemsets of different sizes (k)\n",
    "for k in range(1, 4):  # Example for k from 1 to 3\n",
    "    frequent_itemsets = generate_frequent_itemsets(transactions, k, min_support)\n",
    "    print(f'Frequent {k}-itemsets:')\n",
    "    for itemset, support in frequent_itemsets.items():\n",
    "        print(f'{itemset}: Support = {support:.2f}')\n",
    "    print('\\n\\n')\n",
    "\n"
   ]
  },
  {
   "cell_type": "code",
   "execution_count": 1616,
   "metadata": {},
   "outputs": [
    {
     "name": "stdout",
     "output_type": "stream",
     "text": [
      "{('People & Blogs', 'Science & Technology'), ('Entertainment', 'Science & Technology'), ('Education', 'Science & Technology'), ('Nonprofits & Activism', 'Nonprofits & Activism'), ('People & Blogs', 'People & Blogs'), ('Science & Technology', 'Science & Technology'), ('Entertainment', 'Nonprofits & Activism'), ('Entertainment', 'People & Blogs'), ('News & Politics', 'News & Politics'), ('Education', 'People & Blogs'), ('Nonprofits & Activism', 'Science & Technology'), ('News & Politics', 'Nonprofits & Activism'), ('Nonprofits & Activism', 'People & Blogs'), ('Entertainment', 'Entertainment'), ('Education', 'Entertainment'), ('News & Politics', 'Science & Technology'), ('Entertainment', 'News & Politics'), ('Education', 'News & Politics'), ('News & Politics', 'People & Blogs'), ('Education', 'Nonprofits & Activism')}\n"
     ]
    }
   ],
   "source": [
    "c1 = generate_candidates(transactions, 2)\n",
    "print(c1)"
   ]
  },
  {
   "cell_type": "code",
   "execution_count": 1617,
   "metadata": {},
   "outputs": [
    {
     "data": {
      "text/plain": [
       "{('People & Blogs', 'Science & Technology'): 17,\n",
       " ('Entertainment', 'Science & Technology'): 4,\n",
       " ('Education', 'Science & Technology'): 5,\n",
       " ('Nonprofits & Activism', 'Nonprofits & Activism'): 9,\n",
       " ('People & Blogs', 'People & Blogs'): 31,\n",
       " ('Science & Technology', 'Science & Technology'): 24,\n",
       " ('Entertainment', 'Nonprofits & Activism'): 3,\n",
       " ('Entertainment', 'People & Blogs'): 5,\n",
       " ('News & Politics', 'News & Politics'): 5,\n",
       " ('Education', 'People & Blogs'): 6,\n",
       " ('Nonprofits & Activism', 'Science & Technology'): 9,\n",
       " ('News & Politics', 'Nonprofits & Activism'): 2,\n",
       " ('Nonprofits & Activism', 'People & Blogs'): 8,\n",
       " ('Entertainment', 'Entertainment'): 7,\n",
       " ('Education', 'Entertainment'): 3,\n",
       " ('News & Politics', 'Science & Technology'): 3,\n",
       " ('Entertainment', 'News & Politics'): 3,\n",
       " ('Education', 'News & Politics'): 3,\n",
       " ('News & Politics', 'People & Blogs'): 2,\n",
       " ('Education', 'Nonprofits & Activism'): 3}"
      ]
     },
     "execution_count": 1617,
     "metadata": {},
     "output_type": "execute_result"
    }
   ],
   "source": [
    "calculate_support(transactions, c1, 5)"
   ]
  },
  {
   "cell_type": "code",
   "execution_count": 1618,
   "metadata": {},
   "outputs": [
    {
     "data": {
      "text/plain": [
       "{('People & Blogs', 'Science & Technology'): 17,\n",
       " ('Nonprofits & Activism', 'Nonprofits & Activism'): 9,\n",
       " ('People & Blogs', 'People & Blogs'): 31,\n",
       " ('Science & Technology', 'Science & Technology'): 24,\n",
       " ('Nonprofits & Activism', 'Science & Technology'): 9,\n",
       " ('Nonprofits & Activism', 'People & Blogs'): 8,\n",
       " ('Entertainment', 'Entertainment'): 7}"
      ]
     },
     "execution_count": 1618,
     "metadata": {},
     "output_type": "execute_result"
    }
   ],
   "source": [
    "generate_frequent_itemsets(transactions, 2, 7)"
   ]
  }
 ],
 "metadata": {
  "kernelspec": {
   "display_name": "Python 3",
   "language": "python",
   "name": "python3"
  },
  "language_info": {
   "codemirror_mode": {
    "name": "ipython",
    "version": 3
   },
   "file_extension": ".py",
   "mimetype": "text/x-python",
   "name": "python",
   "nbconvert_exporter": "python",
   "pygments_lexer": "ipython3",
   "version": "3.10.0"
  }
 },
 "nbformat": 4,
 "nbformat_minor": 2
}
